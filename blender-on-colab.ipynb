{
  "nbformat": 4,
  "nbformat_minor": 0,
  "metadata": {
    "colab": {
      "name": "blender-on-colab.ipynb",
      "private_outputs": true,
      "provenance": [],
      "collapsed_sections": [],
      "include_colab_link": true
    },
    "kernelspec": {
      "name": "python3",
      "display_name": "Python 3"
    },
    "accelerator": "GPU"
  },
  "cells": [
    {
      "cell_type": "markdown",
      "metadata": {
        "id": "view-in-github",
        "colab_type": "text"
      },
      "source": [
        "<a href=\"https://colab.research.google.com/github/yassir-a-p/blender-on-colab/blob/main/blender-on-colab.ipynb\" target=\"_parent\"><img src=\"https://colab.research.google.com/assets/colab-badge.svg\" alt=\"Open In Colab\"/></a>"
      ]
    },
    {
      "cell_type": "markdown",
      "metadata": {
        "id": "gzVQ6YyUDzNc"
      },
      "source": [
        "# Check GPU device"
      ]
    },
    {
      "cell_type": "code",
      "metadata": {
        "id": "9nvYnQUVD63c"
      },
      "source": [
        "!nvidia-smi --query-gpu=gpu_name,driver_version,memory.total --format=csv "
      ],
      "execution_count": null,
      "outputs": []
    },
    {
      "cell_type": "markdown",
      "metadata": {
        "id": "MNd7jnnSkuUD"
      },
      "source": [
        "#Setup\n",
        "Specify your desired blender version"
      ]
    },
    {
      "cell_type": "code",
      "metadata": {
        "id": "8dFNjYGTgNjR",
        "cellView": "form"
      },
      "source": [
        "#@title Setup\n",
        "#@markdown Please configure your setup\n",
        "\n",
        "blender_version = 'blender2.92.0' #@param [\"blender2.92.0\", \"blender2.91.2\", \"blender2.90.1\", \"blender2.83.13\", \"blender2.82a\", \"blender2.81a\", \"blender2.80\", \"blender2.79b\"] {allow-input: false}\n",
        "gpu_enabled = True #@param {type:\"boolean\"}\n",
        "cpu_enabled = True #@param {type:\"boolean\"}\n",
        "#@markdown ---\n",
        "use_drive = True #@param {type:\"boolean\"}"
      ],
      "execution_count": null,
      "outputs": []
    },
    {
      "cell_type": "markdown",
      "metadata": {
        "id": "JxX9qmT7oNtz"
      },
      "source": [
        "## Google Drive\n",
        "Run this code if you want to connect to your Google Drive (check **use_drive** option above)<br><br>\n",
        "There will be a link and an empty field.<br>Click the link, it will open a new tab, choose the account you want to access its GDrive, then click **Allow**. Finally, copy the verification code and paste it in the field below, then press **[Enter]**."
      ]
    },
    {
      "cell_type": "code",
      "metadata": {
        "id": "QRzNmiHN8Xr0"
      },
      "source": [
        "if use_drive:\n",
        "  from google.colab import drive\n",
        "  drive.mount('/content/drive')"
      ],
      "execution_count": null,
      "outputs": []
    },
    {
      "cell_type": "markdown",
      "metadata": {
        "id": "wvbEUtpw6XR1"
      },
      "source": [
        "## Blend file setup\n",
        "Specify your blend file and the output path. Make sure the folder for the output exist, otherwise Blender will fail to write the file."
      ]
    },
    {
      "cell_type": "code",
      "metadata": {
        "id": "rlAsZx8G6OUU",
        "cellView": "form"
      },
      "source": [
        "#@markdown You can right click a file and click copy path\n",
        "path_to_blend = '/content/drive/your-folder/your-blend-file.blend'  #@param {type: \"string\"}\n",
        "output_path = '/content/drive/your-folder/output/frame_###'  #@param {type: \"string\"}"
      ],
      "execution_count": null,
      "outputs": []
    },
    {
      "cell_type": "markdown",
      "metadata": {
        "id": "xb7ah58-qdPs"
      },
      "source": [
        "# **Installing Blender in the cloud**"
      ]
    },
    {
      "cell_type": "markdown",
      "metadata": {
        "id": "eXpaSGFEoaeW"
      },
      "source": [
        "Specifying download location for chosen blender version"
      ]
    },
    {
      "cell_type": "code",
      "metadata": {
        "id": "GPJ9fmoB6PWM"
      },
      "source": [
        "if blender_version == \"blender2.79b\":\n",
        "    download_path=\"https://ftp.halifax.rwth-aachen.de/blender/release/Blender2.79/blender-2.79b-linux-glibc219-x86_64.tar.bz2\"\n",
        "elif blender_version == \"blender2.80\":\n",
        "    download_path=\"https://ftp.halifax.rwth-aachen.de/blender/release/Blender2.80/blender-2.80-linux-glibc217-x86_64.tar.bz2\"\n",
        "elif blender_version == \"blender2.81a\":\n",
        "    download_path=\"https://ftp.halifax.rwth-aachen.de/blender/release/Blender2.81/blender-2.81a-linux-glibc217-x86_64.tar.bz2\"\n",
        "elif blender_version == \"blender2.82\":\n",
        "    download_path=\"https://ftp.halifax.rwth-aachen.de/blender/release/Blender2.82/blender-2.82a-linux64.tar.xz\"\n",
        "elif blender_version == \"blender2.83.13\":\n",
        "    download_path=\"https://ftp.halifax.rwth-aachen.de/blender/release/Blender2.83/blender-2.83.13-linux64.tar.xz\"\n",
        "elif blender_version == \"blender2.90.1\":\n",
        "    download_path=\"https://ftp.halifax.rwth-aachen.de/blender/release/Blender2.90/blender-2.90.1-linux64.tar.xz\"\n",
        "elif blender_version == \"blender2.91.2\":\n",
        "    download_path=\"https://ftp.halifax.rwth-aachen.de/blender/release/Blender2.91/blender-2.91.2-linux64.tar.xz\"\n",
        "elif blender_version == \"blender2.92.0\":\n",
        "    download_path=\"https://ftp.halifax.rwth-aachen.de/blender/release/Blender2.92/blender-2.92.0-linux64.tar.xz\""
      ],
      "execution_count": null,
      "outputs": []
    },
    {
      "cell_type": "markdown",
      "metadata": {
        "id": "uU6QrjIKoWvh"
      },
      "source": [
        "Download, unpack, and move blender to designated location"
      ]
    },
    {
      "cell_type": "code",
      "metadata": {
        "id": "OQ54OjLVjb26"
      },
      "source": [
        "!mkdir $blender_version\n",
        "if blender_version == \"blender2.79b\" or \"blender2.80\" or \"blender2.81a\":\n",
        "    !wget -O '{blender_version}.tar.bz2' -nc $download_path\n",
        "    !tar -xf '{blender_version}.tar.bz2' -C ./$blender_version --strip-components=1\n",
        "else:\n",
        "    !wget -O '{blender_version}.tar.xz' -nc $download_path\n",
        "    !tar xf '{blender_version}.tar.xz' -C ./$blender_version --strip-components=1\n"
      ],
      "execution_count": null,
      "outputs": []
    },
    {
      "cell_type": "markdown",
      "metadata": {
        "id": "s3uIDMZLbYOE"
      },
      "source": [
        "*This block is required as some weird behaviors with libtcmalloc appeared in the colab VM*"
      ]
    },
    {
      "cell_type": "code",
      "metadata": {
        "id": "h6vohA2q2BDF"
      },
      "source": [
        "import os\n",
        "\n",
        "os.environ[\"LD_PRELOAD\"] = \"\"\n",
        "\n",
        "!apt update\n",
        "!apt remove libtcmalloc-minimal4\n",
        "!apt install libtcmalloc-minimal4\n",
        "os.environ[\"LD_PRELOAD\"] = \"/usr/lib/x86_64-linux-gnu/libtcmalloc_minimal.so.4.3.0\"\n",
        "\n",
        "!echo $LD_PRELOAD"
      ],
      "execution_count": null,
      "outputs": []
    },
    {
      "cell_type": "markdown",
      "metadata": {
        "id": "UUwwvaq5BxzN"
      },
      "source": [
        "GPU Dependencies"
      ]
    },
    {
      "cell_type": "code",
      "metadata": {
        "id": "RU3p_G4hDk97"
      },
      "source": [
        "!apt install libboost-all-dev\n",
        "!apt install libgl1-mesa-dev\n",
        "!apt install libglu1-mesa libsm-dev"
      ],
      "execution_count": null,
      "outputs": []
    },
    {
      "cell_type": "markdown",
      "metadata": {
        "id": "lTWukdzhpyo9"
      },
      "source": [
        "# **Render**"
      ]
    },
    {
      "cell_type": "code",
      "metadata": {
        "id": "h9xSisNXBIbH",
        "cellView": "form"
      },
      "source": [
        "#@title **Render Setup**\n",
        "\n",
        "#@markdown Set **whatToRender** to:<br>\n",
        "#@markdown + **renderOneFrame** : if you only want to render a single frame. Specify the frame on startFrame field below<br>\n",
        "#@markdown + **renderAllFrame** : if you want to render all the frames as already specified in your .blend file.<br>\n",
        "#@markdown + **renderWithinRange** : if you want to render specific frames within certain range], set the _**startFrame**_ dan _**endFrame**_ below\n",
        "\n",
        "whatToRender = 'renderOneFrame' #@param [\"renderOneFrame\", \"renderAllFrame\", \"renderWithinRange\"] {allow-input: false}\n",
        "#@markdown ---\n",
        "startFrame =  1 #@param {type: \"integer\"}\n",
        "endFrame =  250 #@param {type: \"integer\"}\n",
        "#@markdown ---\n",
        "\n",
        "override_certain_settings = False #@param {type:\"boolean\"}\n",
        "#@markdown Override the settings of samples, resolution, dan compression<br>\n",
        "#@markdown True Samples count, Squared Samples is disabled\n",
        "samples = 500 #@param {type:\"integer\"}\n",
        "resolution_x = 1280 #@param {type:\"integer\"}\n",
        "resolution_y = 720 #@param {type:\"integer\"}\n",
        "compression_level = 100 #@param [\"0\", \"25\", \"50\", \"75\", \"100\"] {allow-input: false}\n",
        "#@markdown **!!! IMPORTANT !!!**<br>\n",
        "#@markdown Make sure to rerun the code if you modify things above (frames to render, samples, etc)!\n",
        "\n",
        "# Generating script to override Samples, Resolution, dan Compression settings\n",
        "override = \"# Override Samples, Resolution, dan Compression settings.\\n\"+\\\n",
        "    \"True samples count, Squared Samples is disabled\\n\"+\\\n",
        "    \"import bpy\\n\"+\\\n",
        "    \"scene = bpy.context.scene\\n\"+\\\n",
        "    \"scene.cycles.use_square_samples = False\\n\"+\\\n",
        "    \"scene.cycles.samples = \"+str(samples)+\"\\n\"+\\\n",
        "    \"scene.render.resolution_x = \"+str(resolution_x)+\"\\n\"+\\\n",
        "    \"scene.render.resolution_y = \"+str(resolution_y)+\"\\n\"+\\\n",
        "    \"scene.render.image_settings.compression = \"+str(compression_level)+\"\\n\"\n",
        "with open('override_others.py', 'w') as f:\n",
        "    f.write(override)"
      ],
      "execution_count": null,
      "outputs": []
    },
    {
      "cell_type": "markdown",
      "metadata": {
        "id": "gsJnZBjAjflN"
      },
      "source": [
        "## Generating script"
      ]
    },
    {
      "cell_type": "markdown",
      "metadata": {
        "id": "Wh4i8msvAanq"
      },
      "source": [
        "Required for Blender to use the GPU as expected"
      ]
    },
    {
      "cell_type": "code",
      "metadata": {
        "id": "ADm7K0U0M2vg"
      },
      "source": [
        "data = \"import re\\n\"+\\\n",
        "    \"import bpy\\n\"+\\\n",
        "    \"scene = bpy.context.scene\\n\"+\\\n",
        "    \"scene.cycles.device = 'GPU'\\n\"+\\\n",
        "    \"prefs = bpy.context.preferences\\n\"+\\\n",
        "    \"prefs.addons['cycles'].preferences.get_devices()\\n\"+\\\n",
        "    \"cprefs = prefs.addons['cycles'].preferences\\n\"+\\\n",
        "    \"print(cprefs)\\n\"+\\\n",
        "    \"# Attempt to set GPU device types if available\\n\"+\\\n",
        "    \"for compute_device_type in ('CUDA', 'OPENCL', 'NONE'):\\n\"+\\\n",
        "    \"    try:\\n\"+\\\n",
        "    \"        cprefs.compute_device_type = compute_device_type\\n\"+\\\n",
        "    \"        print('Device found',compute_device_type)\\n\"+\\\n",
        "    \"        break\\n\"+\\\n",
        "    \"    except TypeError:\\n\"+\\\n",
        "    \"        pass\\n\"+\\\n",
        "    \"#for scene in bpy.data.scenes:\\n\"+\\\n",
        "    \"#    scene.render.tile_x = 64\\n\"+\\\n",
        "    \"#    scene.render.tile_y = 64\\n\"+\\\n",
        "    \"# Enable all CPU and GPU devices\\n\"+\\\n",
        "    \"for device in cprefs.devices:\\n\"+\\\n",
        "    \"    if not re.match('intel', device.name, re.I):\\n\"+\\\n",
        "    \"        print('Activating',device)\\n\"+\\\n",
        "    \"        device.use = \"+str(gpu_enabled)+\"\\n\"+\\\n",
        "    \"    else:\\n\"+\\\n",
        "    \"        device.use = \"+str(cpu_enabled)+\"\\n\"\n",
        "with open('setgpu.py', 'w') as f:\n",
        "    f.write(data)"
      ],
      "execution_count": null,
      "outputs": []
    },
    {
      "cell_type": "markdown",
      "metadata": {
        "id": "4NQfl9jqnNEM"
      },
      "source": [
        "## **Render Cycles with CUDA**"
      ]
    },
    {
      "cell_type": "code",
      "metadata": {
        "id": "BIk15rdnCuVu"
      },
      "source": [
        "if override_certain_settings == False:\n",
        "  if whatToRender == 'renderOneFrame':\n",
        "    !sudo ./$blender_version/blender -b '{path_to_blend}' -P './setgpu.py' -noaudio -E CYCLES -o '{output_path}' -F 'PNG' -f {startFrame}\n",
        "  elif whatToRender == 'renderAllFrame':\n",
        "    !sudo ./$blender_version/blender -b '{path_to_blend}' -P './setgpu.py' -noaudio -E CYCLES -o '{output_path}' -F 'PNG' -a\n",
        "  elif whatToRender == 'renderWithinRange':\n",
        "    !sudo ./$blender_version/blender -b '{path_to_blend}' -P './setgpu.py' -noaudio -E CYCLES -o '{output_path}' -F 'PNG' -s {startFrame} -e {endFrame} -a\n",
        "else:\n",
        "  if whatToRender == 'renderOneFrame':\n",
        "    !sudo ./$blender_version/blender -b '{path_to_blend}' -P './setgpu.py' -P './override_others.py' -noaudio -E CYCLES -o '{output_path}' -F 'PNG' -f {startFrame}\n",
        "  elif whatToRender == 'renderAllFrame':\n",
        "    !sudo ./$blender_version/blender -b '{path_to_blend}' -P './setgpu.py' -P './override_others.py' -noaudio -E CYCLES -o '{output_path}' -F 'PNG' -a\n",
        "  elif whatToRender == 'renderWithinRange':\n",
        "    !sudo ./$blender_version/blender -b '{path_to_blend}' -P './setgpu.py' -P './override_others.py' -noaudio -E CYCLES -o '{output_path}' -F 'PNG' -s {startFrame} -e {endFrame} -a"
      ],
      "execution_count": null,
      "outputs": []
    },
    {
      "cell_type": "markdown",
      "metadata": {
        "id": "ypbHQ_-zawyL"
      },
      "source": [
        "## **Render Cycles with OPTIX**"
      ]
    },
    {
      "cell_type": "markdown",
      "metadata": {
        "id": "jBlDuGlKpZje"
      },
      "source": [
        "not using setgpu.py"
      ]
    },
    {
      "cell_type": "code",
      "metadata": {
        "id": "9l-5W9Kzdfci"
      },
      "source": [
        "if override_certain_settings == False:\n",
        "  if whatToRender == 'renderOneFrame':\n",
        "    !sudo ./$blender_version/blender -b '{path_to_blend}' -noaudio -E CYCLES -o '{output_path}' -F 'PNG' -f {startFrame} -- --cycles-device OPTIX \n",
        "  elif whatToRender == 'renderAllFrame':\n",
        "    !sudo ./$blender_version/blender -b '{path_to_blend}' -noaudio -E CYCLES -o '{output_path}' -F 'PNG' -a -- --cycles-device OPTIX \n",
        "  elif whatToRender == 'renderWithinRange':\n",
        "    !sudo ./$blender_version/blender -b '{path_to_blend}' -noaudio -E CYCLES -o '{output_path}' -F 'PNG' -s {startFrame} -e {endFrame} -a -- --cycles-device OPTIX \n",
        "else:\n",
        "  if whatToRender == 'renderOneFrame':\n",
        "    !sudo ./$blender_version/blender -b '{path_to_blend}' -P './override_others.py' -noaudio -E CYCLES -o '{output_path}' -F 'PNG' -f {startFrame} -- --cycles-device OPTIX \n",
        "  elif whatToRender == 'renderAllFrame':\n",
        "    !sudo ./$blender_version/blender -b '{path_to_blend}' -P './override_others.py' -noaudio -E CYCLES -o '{output_path}' -F 'PNG' -a -- --cycles-device OPTIX \n",
        "  elif whatToRender == 'renderWithinRange':\n",
        "    !sudo ./$blender_version/blender -b '{path_to_blend}' -P './override_others.py' -noaudio -E CYCLES -o '{output_path}' -F 'PNG' -s {startFrame} -e {endFrame} -a -- --cycles-device OPTIX "
      ],
      "execution_count": null,
      "outputs": []
    },
    {
      "cell_type": "markdown",
      "metadata": {
        "id": "QYLb4rPSXiB7"
      },
      "source": [
        "---\n",
        "# **APPENDICES**"
      ]
    },
    {
      "cell_type": "markdown",
      "metadata": {
        "id": "30QEIt8M8vDs"
      },
      "source": [
        "## Copyright, License and Modifications Notice"
      ]
    },
    {
      "cell_type": "markdown",
      "metadata": {
        "id": "q0VeMvEGZqT7"
      },
      "source": [
        "    Copyright 2021 Yassir A. P.\n",
        "\n",
        "    Copyright 2021 github.com/donmahallem\n",
        "\n",
        "    Licensed under the Apache License, Version 2.0 (the \"License\"); you may not use this file except in compliance with the License.\n",
        "\n",
        "    You may obtain a copy of the License at\n",
        "\n",
        "    http://www.apache.org/licenses/LICENSE-2.0\n",
        "\n",
        "    This file has been modified to improve workflow, use updated Blender versions, add support for OPTIX rendering, and add options to override settings of Samples, Resolution, and Compression.\n"
      ]
    },
    {
      "cell_type": "markdown",
      "metadata": {
        "id": "QbYZlhpR8UB1"
      },
      "source": [
        "## Questions? Suggestions?"
      ]
    },
    {
      "cell_type": "markdown",
      "metadata": {
        "id": "CRFLMdui56LQ"
      },
      "source": [
        "If you have some suggestions, request, or questions, you're welcome to discuss things on [the repo's Discussion page](https://github.com/yassir-a-p/blender-on-colab/discussions). I don't promise anything, but I will try to reply and maintain this in the long run."
      ]
    }
  ]
}